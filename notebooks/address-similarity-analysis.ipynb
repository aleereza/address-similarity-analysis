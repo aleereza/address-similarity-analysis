{
 "cells": [
  {
   "cell_type": "markdown",
   "id": "aa62413a-615a-4430-ba84-19024bc48092",
   "metadata": {},
   "source": [
    "# Address Similarity Analysis Using TF-IDF Vectorization and Cosine Similarity\n",
    "\n",
    "## Introduction\n",
    "In this notebook, we demonstrate how to use TF-IDF vectorization and cosine similarity to identify the original forms of shortened addresses. This approach is useful in scenarios where addresses may have been truncated or altered or there is misspelling, and we need to find their closest matches from a reference dataset.\n",
    "\n",
    "## Data Loading\n",
    "We start by loading the original and modified addresses from JSON files."
   ]
  },
  {
   "cell_type": "code",
   "execution_count": 3,
   "id": "ec127e0b-9c08-49b4-816d-319664cd8c0e",
   "metadata": {},
   "outputs": [
    {
     "name": "stdout",
     "output_type": "stream",
     "text": [
      "There are 3220 addresses in this dataset\n"
     ]
    }
   ],
   "source": [
    "import json\n",
    "import pandas as pd\n",
    "from sklearn.feature_extraction.text import TfidfVectorizer\n",
    "from sklearn.metrics.pairwise import cosine_similarity\n",
    "\n",
    "# Load the original and modified addresses\n",
    "with open('../data/original_all_addresses.json', 'r') as file:\n",
    "    all_addresses = json.load(file)\n",
    "\n",
    "with open('../data/modified_all_addresses.json', 'r') as file:\n",
    "    modified_addresses = json.load(file)\n",
    "\n",
    "# Convert the list of addresses to DataFrame\n",
    "df_all_addresses = pd.DataFrame(all_addresses, columns=['address'])\n",
    "df_modified_addresses = pd.DataFrame(modified_addresses, columns=['address'])\n",
    "\n",
    "# Number of addresses\n",
    "print(f\"There are {len(df_all_addresses)} addresses in this dataset\" )"
   ]
  },
  {
   "cell_type": "markdown",
   "id": "15e4374c-4357-41a5-a846-6f5db73ea1f6",
   "metadata": {},
   "source": [
    "## TF-IDF Vectorization\n",
    "TF-IDF (Term Frequency-Inverse Document Frequency) vectorization converts text data into numerical representations. Each address is transformed into a vector that reflects the importance of each word in the context of the entire dataset."
   ]
  },
  {
   "cell_type": "markdown",
   "id": "19a06549-a59a-40d5-a8d6-bc03ad1443ac",
   "metadata": {},
   "source": [
    "### Term Frequency (TF)\n",
    "\n",
    "Term Frequency measures how frequently a term appears in a document. In our case, it measures how often a word appears in an address. To do this, we need to take two steps:\n",
    "\n",
    "1. **Fit**: This step involves learning the vocabulary of all tokens (words) in the raw text documents. The vocabulary is a set of all distinct words in the corpus. In this case, the `fit` method looks at the entire list of addresses and identifies all the unique words.\n",
    "\n",
    "2. **Transform**: This step transforms the text documents into a term frequency matrix. Each row in this matrix represents a document (an address), and each column represents a token (word) from the vocabulary. The values in the matrix are the counts of the tokens in each address. The result is typically a sparse matrix where most of the elements are zero. This is because most addresses will not contain most of the words.\n",
    "\n",
    "The `fit_transform` method of `CountVectorizer` is a combined function that performs both the `fit` and `transform` functions and returns the term frequency matrix.\n",
    "\n",
    "Let's first try it on a small number of addresses for a better understanding of the result:"
   ]
  },
  {
   "cell_type": "code",
   "execution_count": 12,
   "id": "55b5873e-2b9a-4807-8292-ca8b02fe9944",
   "metadata": {},
   "outputs": [
    {
     "name": "stdout",
     "output_type": "stream",
     "text": [
      "                   address  150  1745  2721  560  6007  applegate  avenue  \\\n",
      "0  1745 T Street Southeast    0     1     0    0     0          0       0   \n",
      "1      6007 Applegate Lane    0     0     0    0     1          1       0   \n",
      "2       560 Penstock Drive    0     0     0    1     0          0       0   \n",
      "3        150 Carter Street    1     0     0    0     0          0       0   \n",
      "4      2721 Lindsay Avenue    0     0     1    0     0          0       1   \n",
      "\n",
      "   carter  drive  lane  lindsay  penstock  southeast  street  \n",
      "0       0      0     0        0         0          1       1  \n",
      "1       0      0     1        0         0          0       0  \n",
      "2       0      1     0        0         1          0       0  \n",
      "3       1      0     0        0         0          0       1  \n",
      "4       0      0     0        1         0          0       0  \n"
     ]
    }
   ],
   "source": [
    "def display_sample_term_frequency_matrix(df, n_samples):\n",
    "\n",
    "    top_addresses = df['address'].head(n_samples).tolist()\n",
    "    \n",
    "    # Initialize the Count Vectorizer\n",
    "    count_vectorizer = CountVectorizer()\n",
    "    \n",
    "    # Fit and transform the addresses to get the term frequencies\n",
    "    term_frequencies = count_vectorizer.fit_transform(top_addresses)\n",
    "    tf_df = pd.DataFrame(term_frequencies.toarray(), columns=count_vectorizer.get_feature_names_out())\n",
    "    \n",
    "    # Add the address column to the DataFrame for better readability\n",
    "    tf_df.insert(0, 'address', top_addresses)\n",
    "    print(tf_df)\n",
    "    \n",
    "display_sample_term_frequency_matrix(df_all_addresses, 5)"
   ]
  },
  {
   "cell_type": "markdown",
   "id": "6f40bed1-228e-41a3-b08e-fcf95681746f",
   "metadata": {},
   "source": [
    "Now lets apply that to the entire list of addresses:"
   ]
  },
  {
   "cell_type": "code",
   "execution_count": 14,
   "id": "0d4ed9de-f920-44f2-a11a-2c2ad6c73a78",
   "metadata": {},
   "outputs": [
    {
     "name": "stdout",
     "output_type": "stream",
     "text": [
      "Term frequesncies matrix shape: (3220, 4389)\n"
     ]
    }
   ],
   "source": [
    "from sklearn.feature_extraction.text import CountVectorizer\n",
    "\n",
    "# Initialize the Count Vectorizer\n",
    "count_vectorizer = CountVectorizer()\n",
    "\n",
    "# Fit and transform the addresses to get the term frequencies\n",
    "term_frequencies = count_vectorizer.fit_transform(df_all_addresses['address'])\n",
    "\n",
    "# Create a DataFrame to display the term frequencies\n",
    "# Each row is an address and each column is a unique word from all addresses and the value is the count of that word in that address\n",
    "tf_df = pd.DataFrame(term_frequencies.toarray(), columns=count_vectorizer.get_feature_names_out())\n",
    "\n",
    "print(f\"Term frequesncies matrix shape: {tf_df.shape}\")"
   ]
  },
  {
   "cell_type": "markdown",
   "id": "fbc60bc8-ef8f-4387-96c6-a7f9b181702d",
   "metadata": {},
   "source": [
    "### Inverse Document Frequency (IDF)\n",
    "\n",
    "Inverse Document Frequency measures the importance of a term in the entire corpus. It reduces the weight of common terms and increases the weight of rare terms. Let's calculate the IDF for the terms in our address data."
   ]
  },
  {
   "cell_type": "code",
   "execution_count": 21,
   "id": "a6388ff3-fffe-4c9e-a890-fdedd487d700",
   "metadata": {},
   "outputs": [
    {
     "name": "stdout",
     "output_type": "stream",
     "text": [
      "top most common words (Low IDF value):\n",
      "           Term       IDF\n",
      "4101     street  2.395339\n",
      "2910      drive  2.742393\n",
      "2431     avenue  2.819780\n",
      "3905       road  2.988402\n",
      "4296       west  3.357135\n",
      "3673      north  3.809589\n",
      "3394       lane  3.895664\n",
      "2798      court  3.924156\n",
      "3680  northwest  4.179607\n",
      "2927       east  4.202250\n",
      "top least common words (High IDF value):\n",
      "         Term     IDF\n",
      "2194     8726  8.3843\n",
      "3720  pafford  8.3843\n",
      "2211     8848  8.3843\n",
      "2212     8852  8.3843\n",
      "2213     8886  8.3843\n",
      "2214     88th  8.3843\n",
      "3721  palermo  8.3843\n",
      "2216      890  8.3843\n",
      "2217     8915  8.3843\n",
      "2218     8934  8.3843\n"
     ]
    }
   ],
   "source": [
    "from sklearn.feature_extraction.text import TfidfVectorizer\n",
    "\n",
    "# Initialize the TF-IDF Vectorizer\n",
    "tfidf_vectorizer = TfidfVectorizer(use_idf=True)\n",
    "\n",
    "# Fit the vectorizer to the address data\n",
    "tfidf_vectorizer.fit(df_all_addresses['address'])\n",
    "\n",
    "# Get the IDF values for each term\n",
    "idf_values = tfidf_vectorizer.idf_\n",
    "\n",
    "# Create a DataFrame to display the IDF values\n",
    "idf_df = pd.DataFrame({'Term': tfidf_vectorizer.get_feature_names_out(), 'IDF': idf_values})\n",
    "\n",
    "print(\"top most common words (Low IDF value):\")\n",
    "print(idf_df.sort_values(by='IDF', ascending=True).head(10))\n",
    "print(\"top least common words (High IDF value):\")\n",
    "print(idf_df.sort_values(by='IDF', ascending=False).head(10))"
   ]
  },
  {
   "cell_type": "markdown",
   "id": "e289dace-8de5-430e-adf8-c2e1388df382",
   "metadata": {},
   "source": [
    "### Combining TF and IDF to Get TF-IDF\n",
    "\n",
    "TF-IDF is calculated by multiplying the Term Frequency (TF) of a term by its Inverse Document Frequency (IDF). This gives us a measure of the importance of a term in a specific document (address in this case) relative to the entire corpus. Let's calculate the TF-IDF values for a small sample of address data."
   ]
  },
  {
   "cell_type": "code",
   "execution_count": 22,
   "id": "63126beb-013b-40a0-a195-03f5e5721590",
   "metadata": {},
   "outputs": [
    {
     "data": {
      "text/html": [
       "<div>\n",
       "<style scoped>\n",
       "    .dataframe tbody tr th:only-of-type {\n",
       "        vertical-align: middle;\n",
       "    }\n",
       "\n",
       "    .dataframe tbody tr th {\n",
       "        vertical-align: top;\n",
       "    }\n",
       "\n",
       "    .dataframe thead th {\n",
       "        text-align: right;\n",
       "    }\n",
       "</style>\n",
       "<table border=\"1\" class=\"dataframe\">\n",
       "  <thead>\n",
       "    <tr style=\"text-align: right;\">\n",
       "      <th></th>\n",
       "      <th>10</th>\n",
       "      <th>100</th>\n",
       "      <th>10001</th>\n",
       "      <th>1001</th>\n",
       "      <th>1002</th>\n",
       "      <th>1004</th>\n",
       "      <th>1007</th>\n",
       "      <th>1008</th>\n",
       "      <th>101</th>\n",
       "      <th>1010</th>\n",
       "      <th>...</th>\n",
       "      <th>yerxa</th>\n",
       "      <th>yosemite</th>\n",
       "      <th>young</th>\n",
       "      <th>youngs</th>\n",
       "      <th>yucca</th>\n",
       "      <th>yule</th>\n",
       "      <th>zelda</th>\n",
       "      <th>zenith</th>\n",
       "      <th>zephyr</th>\n",
       "      <th>zion</th>\n",
       "    </tr>\n",
       "  </thead>\n",
       "  <tbody>\n",
       "    <tr>\n",
       "      <th>0</th>\n",
       "      <td>0.0</td>\n",
       "      <td>0.0</td>\n",
       "      <td>0.0</td>\n",
       "      <td>0.0</td>\n",
       "      <td>0.0</td>\n",
       "      <td>0.0</td>\n",
       "      <td>0.0</td>\n",
       "      <td>0.0</td>\n",
       "      <td>0.0</td>\n",
       "      <td>0.0</td>\n",
       "      <td>...</td>\n",
       "      <td>0.0</td>\n",
       "      <td>0.0</td>\n",
       "      <td>0.0</td>\n",
       "      <td>0.0</td>\n",
       "      <td>0.0</td>\n",
       "      <td>0.0</td>\n",
       "      <td>0.0</td>\n",
       "      <td>0.0</td>\n",
       "      <td>0.0</td>\n",
       "      <td>0.0</td>\n",
       "    </tr>\n",
       "    <tr>\n",
       "      <th>1</th>\n",
       "      <td>0.0</td>\n",
       "      <td>0.0</td>\n",
       "      <td>0.0</td>\n",
       "      <td>0.0</td>\n",
       "      <td>0.0</td>\n",
       "      <td>0.0</td>\n",
       "      <td>0.0</td>\n",
       "      <td>0.0</td>\n",
       "      <td>0.0</td>\n",
       "      <td>0.0</td>\n",
       "      <td>...</td>\n",
       "      <td>0.0</td>\n",
       "      <td>0.0</td>\n",
       "      <td>0.0</td>\n",
       "      <td>0.0</td>\n",
       "      <td>0.0</td>\n",
       "      <td>0.0</td>\n",
       "      <td>0.0</td>\n",
       "      <td>0.0</td>\n",
       "      <td>0.0</td>\n",
       "      <td>0.0</td>\n",
       "    </tr>\n",
       "    <tr>\n",
       "      <th>2</th>\n",
       "      <td>0.0</td>\n",
       "      <td>0.0</td>\n",
       "      <td>0.0</td>\n",
       "      <td>0.0</td>\n",
       "      <td>0.0</td>\n",
       "      <td>0.0</td>\n",
       "      <td>0.0</td>\n",
       "      <td>0.0</td>\n",
       "      <td>0.0</td>\n",
       "      <td>0.0</td>\n",
       "      <td>...</td>\n",
       "      <td>0.0</td>\n",
       "      <td>0.0</td>\n",
       "      <td>0.0</td>\n",
       "      <td>0.0</td>\n",
       "      <td>0.0</td>\n",
       "      <td>0.0</td>\n",
       "      <td>0.0</td>\n",
       "      <td>0.0</td>\n",
       "      <td>0.0</td>\n",
       "      <td>0.0</td>\n",
       "    </tr>\n",
       "    <tr>\n",
       "      <th>3</th>\n",
       "      <td>0.0</td>\n",
       "      <td>0.0</td>\n",
       "      <td>0.0</td>\n",
       "      <td>0.0</td>\n",
       "      <td>0.0</td>\n",
       "      <td>0.0</td>\n",
       "      <td>0.0</td>\n",
       "      <td>0.0</td>\n",
       "      <td>0.0</td>\n",
       "      <td>0.0</td>\n",
       "      <td>...</td>\n",
       "      <td>0.0</td>\n",
       "      <td>0.0</td>\n",
       "      <td>0.0</td>\n",
       "      <td>0.0</td>\n",
       "      <td>0.0</td>\n",
       "      <td>0.0</td>\n",
       "      <td>0.0</td>\n",
       "      <td>0.0</td>\n",
       "      <td>0.0</td>\n",
       "      <td>0.0</td>\n",
       "    </tr>\n",
       "    <tr>\n",
       "      <th>4</th>\n",
       "      <td>0.0</td>\n",
       "      <td>0.0</td>\n",
       "      <td>0.0</td>\n",
       "      <td>0.0</td>\n",
       "      <td>0.0</td>\n",
       "      <td>0.0</td>\n",
       "      <td>0.0</td>\n",
       "      <td>0.0</td>\n",
       "      <td>0.0</td>\n",
       "      <td>0.0</td>\n",
       "      <td>...</td>\n",
       "      <td>0.0</td>\n",
       "      <td>0.0</td>\n",
       "      <td>0.0</td>\n",
       "      <td>0.0</td>\n",
       "      <td>0.0</td>\n",
       "      <td>0.0</td>\n",
       "      <td>0.0</td>\n",
       "      <td>0.0</td>\n",
       "      <td>0.0</td>\n",
       "      <td>0.0</td>\n",
       "    </tr>\n",
       "  </tbody>\n",
       "</table>\n",
       "<p>5 rows × 4389 columns</p>\n",
       "</div>"
      ],
      "text/plain": [
       "    10  100  10001  1001  1002  1004  1007  1008  101  1010  ...  yerxa  \\\n",
       "0  0.0  0.0    0.0   0.0   0.0   0.0   0.0   0.0  0.0   0.0  ...    0.0   \n",
       "1  0.0  0.0    0.0   0.0   0.0   0.0   0.0   0.0  0.0   0.0  ...    0.0   \n",
       "2  0.0  0.0    0.0   0.0   0.0   0.0   0.0   0.0  0.0   0.0  ...    0.0   \n",
       "3  0.0  0.0    0.0   0.0   0.0   0.0   0.0   0.0  0.0   0.0  ...    0.0   \n",
       "4  0.0  0.0    0.0   0.0   0.0   0.0   0.0   0.0  0.0   0.0  ...    0.0   \n",
       "\n",
       "   yosemite  young  youngs  yucca  yule  zelda  zenith  zephyr  zion  \n",
       "0       0.0    0.0     0.0    0.0   0.0    0.0     0.0     0.0   0.0  \n",
       "1       0.0    0.0     0.0    0.0   0.0    0.0     0.0     0.0   0.0  \n",
       "2       0.0    0.0     0.0    0.0   0.0    0.0     0.0     0.0   0.0  \n",
       "3       0.0    0.0     0.0    0.0   0.0    0.0     0.0     0.0   0.0  \n",
       "4       0.0    0.0     0.0    0.0   0.0    0.0     0.0     0.0   0.0  \n",
       "\n",
       "[5 rows x 4389 columns]"
      ]
     },
     "execution_count": 22,
     "metadata": {},
     "output_type": "execute_result"
    }
   ],
   "source": [
    "# Transform the addresses to get the TF-IDF values\n",
    "tfidf_matrix = tfidf_vectorizer.transform(df_all_addresses['address'])\n",
    "\n",
    "# Create a DataFrame to display the TF-IDF values\n",
    "tfidf_df = pd.DataFrame(tfidf_matrix.toarray(), columns=tfidf_vectorizer.get_feature_names_out())\n",
    "tfidf_df.head()"
   ]
  },
  {
   "cell_type": "markdown",
   "id": "0b9a6893-82e1-40f9-9d47-0644762989c8",
   "metadata": {},
   "source": [
    "as expected it is mostly zero. to have a better undrestanding of the efidf matrix, lets only look at the columns that exist in the top 5 addresses. another point to consider is that The CountVectorizer and TfidfVectorizer classes in scikit-learn have default parameters that ignore terms with a length of one character. This is done to remove common stopwords and single-character tokens that are not useful for analysis:"
   ]
  },
  {
   "cell_type": "code",
   "execution_count": 23,
   "id": "429915b4-4e07-436a-b74d-876e27152366",
   "metadata": {},
   "outputs": [
    {
     "name": "stdout",
     "output_type": "stream",
     "text": [
      "                   address       150      1745      2721       560      6007  \\\n",
      "0  1745 T Street Southeast  0.000000  0.826431  0.000000  0.000000  0.000000   \n",
      "1      6007 Applegate Lane  0.000000  0.000000  0.000000  0.000000  0.653357   \n",
      "2       560 Penstock Drive  0.000000  0.000000  0.000000  0.688921  0.000000   \n",
      "3        150 Carter Street  0.650487  0.000000  0.000000  0.000000  0.000000   \n",
      "4      2721 Lindsay Avenue  0.000000  0.000000  0.687922  0.000000  0.000000   \n",
      "\n",
      "   applegate   avenue    carter     drive      lane   lindsay  penstock  \\\n",
      "0   0.000000  0.00000  0.000000  0.000000  0.000000  0.000000  0.000000   \n",
      "1   0.686559  0.00000  0.000000  0.000000  0.319001  0.000000  0.000000   \n",
      "2   0.000000  0.00000  0.000000  0.225337  0.000000  0.000000  0.688921   \n",
      "3   0.000000  0.00000  0.730298  0.000000  0.000000  0.000000  0.000000   \n",
      "4   0.000000  0.23136  0.000000  0.000000  0.000000  0.687922  0.000000   \n",
      "\n",
      "   southeast    street  \n",
      "0   0.511141  0.236106  \n",
      "1   0.000000  0.000000  \n",
      "2   0.000000  0.000000  \n",
      "3   0.000000  0.208641  \n",
      "4   0.000000  0.000000  \n"
     ]
    }
   ],
   "source": [
    "# Add the address column to the DataFrame for better readability\n",
    "tfidf_df.insert(0, 'address', df_all_addresses['address'])\n",
    "\n",
    "# Get the top 5 addresses\n",
    "top_5_addresses = df_all_addresses['address'].head(5)\n",
    "\n",
    "# Get the TF-IDF values for the top 5 addresses\n",
    "top_5_tfidf_matrix = tfidf_vectorizer.transform(top_5_addresses)\n",
    "top_5_tfidf_df = pd.DataFrame(top_5_tfidf_matrix.toarray(), columns=tfidf_vectorizer.get_feature_names_out())\n",
    "\n",
    "# Get the terms that exist in the top 5 addresses\n",
    "non_zero_columns = top_5_tfidf_df.loc[:, (top_5_tfidf_df != 0).any(axis=0)].columns\n",
    "\n",
    "# Filter the original TF-IDF DataFrame to include only these columns\n",
    "filtered_tfidf_df = tfidf_df[['address'] + list(non_zero_columns)]\n",
    "\n",
    "# Display the filtered DataFrame\n",
    "print(filtered_tfidf_df.head())\n"
   ]
  },
  {
   "cell_type": "markdown",
   "id": "1f4f5e69-1a01-47e0-b296-a54c5988fec6",
   "metadata": {},
   "source": [
    "### Visualizing TF-IDF Values\n",
    "\n",
    "To better understand the importance of different terms in our address data, we can visualize the TF-IDF values. Here you can plot the TF-IDF scores for any address index.\n"
   ]
  },
  {
   "cell_type": "code",
   "execution_count": 26,
   "id": "6914748d-8104-42a7-9670-ca7e95964d4e",
   "metadata": {},
   "outputs": [
    {
     "data": {
      "image/png": "[encoded data removed]",
      "text/plain": [
       "<Figure size 600x400 with 1 Axes>"
      ]
     },
     "metadata": {},
     "output_type": "display_data"
    }
   ],
   "source": [
    "import matplotlib.pyplot as plt\n",
    "\n",
    "# Select a sample address to visualize its TF-IDF values\n",
    "sample_address_index = 15\n",
    "sample_address = df_all_addresses['address'].iloc[sample_address_index]\n",
    "sample_tfidf_values = tfidf_matrix[sample_address_index].toarray().flatten()\n",
    "\n",
    "# Create a DataFrame for the sample TF-IDF values\n",
    "sample_tfidf_df = pd.DataFrame({'Term': tfidf_vectorizer.get_feature_names_out(), 'TF-IDF': sample_tfidf_values})\n",
    "sample_tfidf_df = sample_tfidf_df[sample_tfidf_df['TF-IDF'] > 0]  # Filter out zero TF-IDF values\n",
    "\n",
    "# Plot the TF-IDF values\n",
    "plt.figure(figsize=(6, 4))\n",
    "plt.barh(sample_tfidf_df['Term'], sample_tfidf_df['TF-IDF'])\n",
    "plt.xlabel('TF-IDF Value')\n",
    "plt.ylabel('Term')\n",
    "plt.title(f'TF-IDF Values for Address: \"{sample_address}\"')\n",
    "plt.show()\n"
   ]
  },
  {
   "cell_type": "markdown",
   "id": "bca7bf71-6ca9-4803-a0c7-cd17682134da",
   "metadata": {},
   "source": [
    "### Applying TF-IDF Vectorization to Address Data\n",
    "\n",
    "Once we have a detailed understanding of TF-IDF, we can apply this technique to our address data. The purpose of the previous TF-IDF code was to explain how the method works under the hood. For obtaining the results, the few lines of code below are sufficient to calculate the TF-IDF matrix for both the original addresses (training set) and the modified addresses (test set). The following steps illustrate how we initialize the TF-IDF Vectorizer, fit it to our original addresses, and transform both the original and modified addresses into TF-IDF matrices.\n",
    "\n",
    "1. **Initialize the TF-IDF Vectorizer**:\n",
    "   - We start by creating an instance of `TfidfVectorizer`. This object will be used to convert our text data into TF-IDF features.\n",
    "\n",
    "2. **Fit and Transform the Original Addresses**:\n",
    "   - The `fit_transform` method is applied to the original addresses (`df_all_addresses['address']`). This step will directly give us the TF-IDF matrix for the original address data.\n",
    "\n",
    "3. **Transform the Modified Addresses**:\n",
    "   - Using the already fitted vectorizer, we transform the modified addresses (`df_modified_addresses['address']`). This step uses the learned vocabulary and IDF to convert the modified addresses into a TF-IDF matrix. It is important to note that we don't fit the vectorizer on the modified addresses. In other words, we are not calculating the importance value of those terms that only exist in the modified version (test set) and consider it as zero. A TF-IDF value of zero means that the term does not contribute to the document vector in the transformed space. This neutrality ensures that new terms do not introduce any bias or noise into the similarity calculation. Essentially, the similarity is calculated based only on the shared vocabulary learned from the original data.\n",
    "\n",
    "By performing these steps, we convert our textual address data into numerical TF-IDF representations. These representations can then be used for further analysis, such as comparing the similarity between original and modified addresses using cosine similarity.\n",
    "\n"
   ]
  },
  {
   "cell_type": "code",
   "execution_count": 7,
   "id": "6d0ff44a-408a-49e5-90bc-2d40095ff23d",
   "metadata": {},
   "outputs": [],
   "source": [
    "# Initialize the TF-IDF Vectorizer\n",
    "vectorizer = TfidfVectorizer()\n",
    "\n",
    "# Fit and transform the addresses with TF-IDF Vectorizer\n",
    "tfidf_all = vectorizer.fit_transform(df_all_addresses['address'])\n",
    "tfidf_changed = vectorizer.transform(df_modified_addresses['address'])"
   ]
  },
  {
   "cell_type": "markdown",
   "id": "2f876435-7eb2-40ba-9e52-04cc7ff8f129",
   "metadata": {},
   "source": [
    "### Cosine Similarity\n",
    "\n",
    "Cosine similarity is a metric used to determine how similar two documents are, regardless of their size. It calculates the cosine of the angle between two vectors, which in our case, are the TF-IDF representations of the addresses. Here’s how it works:\n",
    "\n",
    "1. **Cosine Similarity Calculation**:\n",
    "   - Cosine similarity is calculated by dividing the dot product of the vectors by the product of their magnitudes. This results in a value between -1 and 1.\n",
    "   - **Value of 1**: This indicates that the vectors are identical in direction, meaning the documents (addresses) are very similar.\n",
    "   - **Value of 0**: This indicates that the vectors are orthogonal, meaning the documents have no terms in common and are completely different.\n",
    "   - **Value of -1**: This indicates that the vectors are diametrically opposed, meaning they are completely dissimilar.\n",
    "\n",
    "2. **Dot Product**:\n",
    "   - The dot product of two vectors is the sum of the products of their corresponding elements. For example, for vectors A and B, the dot product is the sum of the products of their corresponding values.\n",
    "\n",
    "3. **Magnitude**:\n",
    "   - The magnitude (or length) of a vector is calculated as the square root of the sum of the squares of its elements. This gives a measure of the vector's length in multidimensional space.\n",
    "\n",
    "Cosine similarity is particularly useful for text analysis because it is invariant to the length of the documents. This means that it focuses on the orientation (direction) of the vectors rather than their magnitude, making it ideal for comparing documents of different lengths.\n",
    "\n",
    "By using cosine similarity, we can measure how similar the modified addresses are to the original addresses based on their TF-IDF representations. This helps in identifying the most similar original address for each modified address, providing insights into how the addresses have changed."
   ]
  },
  {
   "cell_type": "code",
   "execution_count": 8,
   "id": "319136c0-264c-4d38-8b8f-41960be42f66",
   "metadata": {},
   "outputs": [],
   "source": [
    "# Calculate cosine similarity between the shortened and original addresses\n",
    "cosine_similarities = cosine_similarity(tfidf_changed, tfidf_all)"
   ]
  },
  {
   "cell_type": "markdown",
   "id": "6b9168c0-e397-414b-8829-246653586703",
   "metadata": {},
   "source": [
    "## Matching Shortened Addresses to Original Addresses\n",
    "We define a function to find the most similar original address for each shortened address based on the highest cosine similarity."
   ]
  },
  {
   "cell_type": "code",
   "execution_count": 9,
   "id": "66eaa3b7-3f7a-44fe-834b-b8bcba09f2a4",
   "metadata": {},
   "outputs": [],
   "source": [
    "# Function to find the most similar original address for each shortened address\n",
    "def find_most_similar_address(similarities, original_addresses):\n",
    "    most_similar = []\n",
    "    for i in range(similarities.shape[0]):\n",
    "        most_similar_idx = similarities[i].argmax()\n",
    "        most_similar.append(original_addresses[most_similar_idx])\n",
    "    return most_similar\n",
    "\n",
    "# Find the most similar original addresses\n",
    "most_similar_addresses = find_most_similar_address(cosine_similarities, df_all_addresses['address'])"
   ]
  },
  {
   "cell_type": "markdown",
   "id": "fbdfe625-8d45-4bc3-ad2d-e69f20fc9b8f",
   "metadata": {},
   "source": [
    "## Results\n",
    "We compare the shortened addresses with their most similar original addresses. Only those addresses that were modified (shortened) are included in the results."
   ]
  },
  {
   "cell_type": "code",
   "execution_count": 10,
   "id": "2e908351-43e0-489d-b921-42c1131f3087",
   "metadata": {},
   "outputs": [
    {
     "data": {
      "text/html": [
       "<div>\n",
       "<style scoped>\n",
       "    .dataframe tbody tr th:only-of-type {\n",
       "        vertical-align: middle;\n",
       "    }\n",
       "\n",
       "    .dataframe tbody tr th {\n",
       "        vertical-align: top;\n",
       "    }\n",
       "\n",
       "    .dataframe thead th {\n",
       "        text-align: right;\n",
       "    }\n",
       "</style>\n",
       "<table border=\"1\" class=\"dataframe\">\n",
       "  <thead>\n",
       "    <tr style=\"text-align: right;\">\n",
       "      <th></th>\n",
       "      <th>Shortened Address</th>\n",
       "      <th>Most Similar Original Address</th>\n",
       "    </tr>\n",
       "  </thead>\n",
       "  <tbody>\n",
       "    <tr>\n",
       "      <th>17</th>\n",
       "      <td>5461 Wst Shades Vlley Drve</td>\n",
       "      <td>5461 West Shades Valley Drive</td>\n",
       "    </tr>\n",
       "    <tr>\n",
       "      <th>21</th>\n",
       "      <td>3729 East Mission Bulevard</td>\n",
       "      <td>3729 East Mission Boulevard</td>\n",
       "    </tr>\n",
       "    <tr>\n",
       "      <th>38</th>\n",
       "      <td>802 Madisn Stret Northwest</td>\n",
       "      <td>802 Madison Street Northwest</td>\n",
       "    </tr>\n",
       "    <tr>\n",
       "      <th>39</th>\n",
       "      <td>2811 Bttery Plac Northwest</td>\n",
       "      <td>2811 Battery Place Northwest</td>\n",
       "    </tr>\n",
       "    <tr>\n",
       "      <th>50</th>\n",
       "      <td>1508 Msschstts vn Sotheast</td>\n",
       "      <td>1508 Massachusetts Avenue Southeast</td>\n",
       "    </tr>\n",
       "  </tbody>\n",
       "</table>\n",
       "</div>"
      ],
      "text/plain": [
       "             Shortened Address        Most Similar Original Address\n",
       "17  5461 Wst Shades Vlley Drve        5461 West Shades Valley Drive\n",
       "21  3729 East Mission Bulevard          3729 East Mission Boulevard\n",
       "38  802 Madisn Stret Northwest         802 Madison Street Northwest\n",
       "39  2811 Bttery Plac Northwest         2811 Battery Place Northwest\n",
       "50  1508 Msschstts vn Sotheast  1508 Massachusetts Avenue Southeast"
      ]
     },
     "execution_count": 10,
     "metadata": {},
     "output_type": "execute_result"
    }
   ],
   "source": [
    "# Create a DataFrame to show the results\n",
    "df_results = pd.DataFrame({\n",
    "    'Shortened Address': df_modified_addresses['address'],\n",
    "    'Most Similar Original Address': most_similar_addresses\n",
    "})\n",
    "\n",
    "# Filter out the addresses that were not changed\n",
    "df_filtered_results = df_results[df_results['Shortened Address'] != df_results['Most Similar Original Address']]\n",
    "\n",
    "df_filtered_results.to_json('../data/similar_addresses.json', orient='records', lines=True)\n",
    "\n",
    "# Display the results\n",
    "df_filtered_results.head()\n",
    "\n",
    "#Todo: add an accuracy measure"
   ]
  },
  {
   "cell_type": "markdown",
   "id": "54d833c6-b618-4f6d-812c-b1b3ea7308fe",
   "metadata": {},
   "source": [
    "## Visualization\n",
    "To better understand the distribution of address lengths and the impact of shortening, we plot histograms of the lengths of the original and modified addresses."
   ]
  },
  {
   "cell_type": "code",
   "execution_count": 12,
   "id": "6301385d-bb71-40f0-b8d7-8de7e6d49178",
   "metadata": {},
   "outputs": [
    {
     "data": {
      "image/png": "[encoded data removed]",
      "text/plain": [
       "<Figure size 640x480 with 1 Axes>"
      ]
     },
     "metadata": {},
     "output_type": "display_data"
    }
   ],
   "source": [
    "import matplotlib.pyplot as plt\n",
    "\n",
    "# Plot histogram of original address lengths\n",
    "df_all_addresses['length'] = df_all_addresses['address'].apply(len)\n",
    "plt.hist(df_all_addresses['length'], bins=30, alpha=0.5, label='Original Addresses')\n",
    "\n",
    "# Plot histogram of modified address lengths\n",
    "df_modified_addresses['length'] = df_modified_addresses['address'].apply(len)\n",
    "plt.hist(df_modified_addresses['length'], bins=30, alpha=0.5, label='Modified Addresses')\n",
    "\n",
    "plt.xlabel('Address Length')\n",
    "plt.ylabel('Frequency')\n",
    "plt.title('Distribution of Address Lengths')\n",
    "plt.legend()\n",
    "plt.show()"
   ]
  },
  {
   "cell_type": "markdown",
   "id": "67df811e-baae-4802-a286-8a036932008a",
   "metadata": {},
   "source": [
    "## Accuracy Measure\n",
    "Finally, we calculate an accuracy measure to evaluate how well the cosine similarity method matched the shortened addresses to their original forms."
   ]
  },
  {
   "cell_type": "code",
   "execution_count": 13,
   "id": "1a1bf353-c905-4acd-9139-22c730731321",
   "metadata": {},
   "outputs": [],
   "source": [
    "#ToDo: Accuracy Measure"
   ]
  },
  {
   "cell_type": "markdown",
   "id": "8acaad3d-323a-4b0b-bbd4-fbb1e5a7bbe2",
   "metadata": {},
   "source": [
    "## Conclusion\n",
    "In this notebook, we demonstrated how to use TF-IDF vectorization and cosine similarity to find the most similar original addresses for shortened addresses. This method can be useful in various data cleaning and preprocessing tasks where maintaining the integrity of textual data is crucial."
   ]
  },
  {
   "cell_type": "code",
   "execution_count": null,
   "id": "f79aaabe-2dd6-44ab-8b8b-498a89e6f5e6",
   "metadata": {},
   "outputs": [],
   "source": []
  }
 ],
 "metadata": {
  "kernelspec": {
   "display_name": "Python 3 (ipykernel)",
   "language": "python",
   "name": "python3"
  },
  "language_info": {
   "codemirror_mode": {
    "name": "ipython",
    "version": 3
   },
   "file_extension": ".py",
   "mimetype": "text/x-python",
   "name": "python",
   "nbconvert_exporter": "python",
   "pygments_lexer": "ipython3",
   "version": "3.9.19"
  }
 },
 "nbformat": 4,
 "nbformat_minor": 5
}
