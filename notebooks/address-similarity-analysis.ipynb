{
 "cells": [
  {
   "cell_type": "markdown",
   "id": "aa62413a-615a-4430-ba84-19024bc48092",
   "metadata": {},
   "source": [
    "# Address Similarity Analysis Using TF-IDF Vectorization and Cosine Similarity\n",
    "\n",
    "## Introduction\n",
    "In this notebook, we demonstrate how to use TF-IDF vectorization and cosine similarity to identify the original forms of shortened addresses. This approach is useful in scenarios where addresses may have been truncated or altered or there is misspelling, and we need to find their closest matches from a reference dataset.\n",
    "\n",
    "## Data Loading\n",
    "We start by loading the original and modified addresses from JSON files."
   ]
  },
  {
   "cell_type": "code",
   "execution_count": 6,
   "id": "ec127e0b-9c08-49b4-816d-319664cd8c0e",
   "metadata": {},
   "outputs": [],
   "source": [
    "import json\n",
    "import pandas as pd\n",
    "from sklearn.feature_extraction.text import TfidfVectorizer\n",
    "from sklearn.metrics.pairwise import cosine_similarity\n",
    "\n",
    "# Load the original and modified addresses\n",
    "with open('../data/original_all_addresses.json', 'r') as file:\n",
    "    all_addresses = json.load(file)\n",
    "\n",
    "with open('../data/modified_all_addresses.json', 'r') as file:\n",
    "    modified_addresses = json.load(file)\n",
    "\n",
    "# Convert the list of addresses to DataFrame\n",
    "df_all_addresses = pd.DataFrame(all_addresses, columns=['address'])\n",
    "df_modified_addresses = pd.DataFrame(modified_addresses, columns=['address'])"
   ]
  },
  {
   "cell_type": "markdown",
   "id": "15e4374c-4357-41a5-a846-6f5db73ea1f6",
   "metadata": {},
   "source": [
    "## TF-IDF Vectorization\n",
    "TF-IDF (Term Frequency-Inverse Document Frequency) vectorization converts text data into numerical representations. Each address is transformed into a vector that reflects the importance of each word in the context of the entire dataset."
   ]
  },
  {
   "cell_type": "code",
   "execution_count": 7,
   "id": "6d0ff44a-408a-49e5-90bc-2d40095ff23d",
   "metadata": {},
   "outputs": [],
   "source": [
    "# Initialize the TF-IDF Vectorizer\n",
    "vectorizer = TfidfVectorizer()\n",
    "\n",
    "# Fit and transform the addresses with TF-IDF Vectorizer\n",
    "tfidf_all = vectorizer.fit_transform(df_all_addresses['address'])\n",
    "tfidf_changed = vectorizer.transform(df_modified_addresses['address'])"
   ]
  },
  {
   "cell_type": "markdown",
   "id": "2f876435-7eb2-40ba-9e52-04cc7ff8f129",
   "metadata": {},
   "source": [
    "## Cosine Similarity\n",
    "Cosine similarity measures the cosine of the angle between two vectors. It is used to determine the similarity between two TF-IDF vectors. A cosine similarity of 1 indicates identical vectors, while 0 indicates orthogonal (completely different) vectors."
   ]
  },
  {
   "cell_type": "code",
   "execution_count": 8,
   "id": "319136c0-264c-4d38-8b8f-41960be42f66",
   "metadata": {},
   "outputs": [],
   "source": [
    "# Calculate cosine similarity between the shortened and original addresses\n",
    "cosine_similarities = cosine_similarity(tfidf_changed, tfidf_all)"
   ]
  },
  {
   "cell_type": "markdown",
   "id": "6b9168c0-e397-414b-8829-246653586703",
   "metadata": {},
   "source": [
    "## Matching Shortened Addresses to Original Addresses\n",
    "We define a function to find the most similar original address for each shortened address based on the highest cosine similarity."
   ]
  },
  {
   "cell_type": "code",
   "execution_count": 9,
   "id": "66eaa3b7-3f7a-44fe-834b-b8bcba09f2a4",
   "metadata": {},
   "outputs": [],
   "source": [
    "# Function to find the most similar original address for each shortened address\n",
    "def find_most_similar_address(similarities, original_addresses):\n",
    "    most_similar = []\n",
    "    for i in range(similarities.shape[0]):\n",
    "        most_similar_idx = similarities[i].argmax()\n",
    "        most_similar.append(original_addresses[most_similar_idx])\n",
    "    return most_similar\n",
    "\n",
    "# Find the most similar original addresses\n",
    "most_similar_addresses = find_most_similar_address(cosine_similarities, df_all_addresses['address'])"
   ]
  },
  {
   "cell_type": "markdown",
   "id": "fbdfe625-8d45-4bc3-ad2d-e69f20fc9b8f",
   "metadata": {},
   "source": [
    "## Results\n",
    "We compare the shortened addresses with their most similar original addresses. Only those addresses that were modified (shortened) are included in the results."
   ]
  },
  {
   "cell_type": "code",
   "execution_count": 10,
   "id": "2e908351-43e0-489d-b921-42c1131f3087",
   "metadata": {},
   "outputs": [
    {
     "data": {
      "text/html": [
       "<div>\n",
       "<style scoped>\n",
       "    .dataframe tbody tr th:only-of-type {\n",
       "        vertical-align: middle;\n",
       "    }\n",
       "\n",
       "    .dataframe tbody tr th {\n",
       "        vertical-align: top;\n",
       "    }\n",
       "\n",
       "    .dataframe thead th {\n",
       "        text-align: right;\n",
       "    }\n",
       "</style>\n",
       "<table border=\"1\" class=\"dataframe\">\n",
       "  <thead>\n",
       "    <tr style=\"text-align: right;\">\n",
       "      <th></th>\n",
       "      <th>Shortened Address</th>\n",
       "      <th>Most Similar Original Address</th>\n",
       "    </tr>\n",
       "  </thead>\n",
       "  <tbody>\n",
       "    <tr>\n",
       "      <th>17</th>\n",
       "      <td>5461 Wst Shades Vlley Drve</td>\n",
       "      <td>5461 West Shades Valley Drive</td>\n",
       "    </tr>\n",
       "    <tr>\n",
       "      <th>21</th>\n",
       "      <td>3729 East Mission Bulevard</td>\n",
       "      <td>3729 East Mission Boulevard</td>\n",
       "    </tr>\n",
       "    <tr>\n",
       "      <th>38</th>\n",
       "      <td>802 Madisn Stret Northwest</td>\n",
       "      <td>802 Madison Street Northwest</td>\n",
       "    </tr>\n",
       "    <tr>\n",
       "      <th>39</th>\n",
       "      <td>2811 Bttery Plac Northwest</td>\n",
       "      <td>2811 Battery Place Northwest</td>\n",
       "    </tr>\n",
       "    <tr>\n",
       "      <th>50</th>\n",
       "      <td>1508 Msschstts vn Sotheast</td>\n",
       "      <td>1508 Massachusetts Avenue Southeast</td>\n",
       "    </tr>\n",
       "  </tbody>\n",
       "</table>\n",
       "</div>"
      ],
      "text/plain": [
       "             Shortened Address        Most Similar Original Address\n",
       "17  5461 Wst Shades Vlley Drve        5461 West Shades Valley Drive\n",
       "21  3729 East Mission Bulevard          3729 East Mission Boulevard\n",
       "38  802 Madisn Stret Northwest         802 Madison Street Northwest\n",
       "39  2811 Bttery Plac Northwest         2811 Battery Place Northwest\n",
       "50  1508 Msschstts vn Sotheast  1508 Massachusetts Avenue Southeast"
      ]
     },
     "execution_count": 10,
     "metadata": {},
     "output_type": "execute_result"
    }
   ],
   "source": [
    "# Create a DataFrame to show the results\n",
    "df_results = pd.DataFrame({\n",
    "    'Shortened Address': df_modified_addresses['address'],\n",
    "    'Most Similar Original Address': most_similar_addresses\n",
    "})\n",
    "\n",
    "# Filter out the addresses that were not changed\n",
    "df_filtered_results = df_results[df_results['Shortened Address'] != df_results['Most Similar Original Address']]\n",
    "\n",
    "df_filtered_results.to_json('../data/similar_addresses.json', orient='records', lines=True)\n",
    "\n",
    "# Display the results\n",
    "df_filtered_results.head()\n",
    "\n",
    "#Todo: add an accuracy measure"
   ]
  },
  {
   "cell_type": "markdown",
   "id": "54d833c6-b618-4f6d-812c-b1b3ea7308fe",
   "metadata": {},
   "source": [
    "## Visualization\n",
    "To better understand the distribution of address lengths and the impact of shortening, we plot histograms of the lengths of the original and modified addresses."
   ]
  },
  {
   "cell_type": "code",
   "execution_count": 12,
   "id": "6301385d-bb71-40f0-b8d7-8de7e6d49178",
   "metadata": {},
   "outputs": [
    {
     "data": {
      "image/png": "[encoded data removed]",
      "text/plain": [
       "<Figure size 640x480 with 1 Axes>"
      ]
     },
     "metadata": {},
     "output_type": "display_data"
    }
   ],
   "source": [
    "import matplotlib.pyplot as plt\n",
    "\n",
    "# Plot histogram of original address lengths\n",
    "df_all_addresses['length'] = df_all_addresses['address'].apply(len)\n",
    "plt.hist(df_all_addresses['length'], bins=30, alpha=0.5, label='Original Addresses')\n",
    "\n",
    "# Plot histogram of modified address lengths\n",
    "df_modified_addresses['length'] = df_modified_addresses['address'].apply(len)\n",
    "plt.hist(df_modified_addresses['length'], bins=30, alpha=0.5, label='Modified Addresses')\n",
    "\n",
    "plt.xlabel('Address Length')\n",
    "plt.ylabel('Frequency')\n",
    "plt.title('Distribution of Address Lengths')\n",
    "plt.legend()\n",
    "plt.show()"
   ]
  },
  {
   "cell_type": "markdown",
   "id": "67df811e-baae-4802-a286-8a036932008a",
   "metadata": {},
   "source": [
    "## Accuracy Measure\n",
    "Finally, we calculate an accuracy measure to evaluate how well the cosine similarity method matched the shortened addresses to their original forms."
   ]
  },
  {
   "cell_type": "code",
   "execution_count": 13,
   "id": "1a1bf353-c905-4acd-9139-22c730731321",
   "metadata": {},
   "outputs": [],
   "source": [
    "#ToDo: Accuracy Measure"
   ]
  },
  {
   "cell_type": "markdown",
   "id": "8acaad3d-323a-4b0b-bbd4-fbb1e5a7bbe2",
   "metadata": {},
   "source": [
    "## Conclusion\n",
    "In this notebook, we demonstrated how to use TF-IDF vectorization and cosine similarity to find the most similar original addresses for shortened addresses. This method can be useful in various data cleaning and preprocessing tasks where maintaining the integrity of textual data is crucial."
   ]
  },
  {
   "cell_type": "code",
   "execution_count": null,
   "id": "f79aaabe-2dd6-44ab-8b8b-498a89e6f5e6",
   "metadata": {},
   "outputs": [],
   "source": []
  }
 ],
 "metadata": {
  "kernelspec": {
   "display_name": "Python 3 (ipykernel)",
   "language": "python",
   "name": "python3"
  },
  "language_info": {
   "codemirror_mode": {
    "name": "ipython",
    "version": 3
   },
   "file_extension": ".py",
   "mimetype": "text/x-python",
   "name": "python",
   "nbconvert_exporter": "python",
   "pygments_lexer": "ipython3",
   "version": "3.9.19"
  }
 },
 "nbformat": 4,
 "nbformat_minor": 5
}
